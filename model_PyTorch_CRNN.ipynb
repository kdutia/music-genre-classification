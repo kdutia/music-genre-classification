{
 "cells": [
  {
   "cell_type": "markdown",
   "metadata": {},
   "source": [
    "This is an implementation of a CRNN for music classification [[ref]](https://arxiv.org/pdf/1609.04243.pdf), which consists of 1D CNNs to capture temporal features from a spectrogram, and then RNNs for summarisation of these features."
   ]
  },
  {
   "cell_type": "code",
   "execution_count": 1,
   "metadata": {},
   "outputs": [],
   "source": [
    "import torch.nn as nn"
   ]
  },
  {
   "cell_type": "code",
   "execution_count": 6,
   "metadata": {},
   "outputs": [],
   "source": [
    "img_height = 96\n",
    "img_width = 1366\n",
    "\n",
    "class k1c2(nn.Module):\n",
    "    def __init__(self, num_classes:int, img_shape:list):\n",
    "        \"\"\"\n",
    "        Convnet for music classification: 4 conv layers then 2 FC layers\n",
    "        \"\"\"\n",
    "        \n",
    "        super(k1c2, self).__init__()\n",
    "                \n",
    "        self.img_width = img_shape[0]\n",
    "        self.img_height = img_shape[1]\n",
    "        \n",
    "        net = nn.Sequential()\n",
    "        \n",
    "        def add_CNN_layer(num, size_in, size_out, kernel_size=3, padding=1, bn=True, pool_size=2):\n",
    "            net.add_module( f\"conv{num}\", nn.Conv2d(size_in, size_out, kernel_size=3, stride=1, padding=padding) )\n",
    "            if bn: \n",
    "                net.add_module( f\"bn{num}\",nn.BatchNorm2d(size_out) )\n",
    "            if pool_size:\n",
    "                net.add_module( f\"pool{num}\", nn.MaxPool2d(kernel_size=pool_size) )\n",
    "        \n",
    "        def add_FC_layer(num, size_in, size_out, dropout=0.5):\n",
    "            net.add_module( f\"fc{num}\", nn.Linear(size_in, size_out))\n",
    "            if dropout:\n",
    "                net.add_module( f\"dropout{num}\", nn.Dropout(dropout))\n",
    "        \n",
    "        # for 2.5e5 parameter network\n",
    "        add_CNN_layer(0, 1, 33)\n",
    "        add_CNN_layer(1, 33, 33)\n",
    "        add_CNN_layer(2, 33, 66)\n",
    "        add_CNN_layer(3, 66, 66)\n",
    "        add_CNN_layer(4, 100, 133)\n",
    "        add_FC_layer(5, 66, 66)\n",
    "        add_FC_layer(6, 66, 66)\n",
    "        add_FC_layer(7, 66, num_classes)\n",
    "        \n",
    "        self.net = net\n",
    "        \n",
    "    def forward(self, input):\n",
    "        return self.net(input)\n",
    "    "
   ]
  },
  {
   "cell_type": "code",
   "execution_count": null,
   "metadata": {},
   "outputs": [],
   "source": []
  }
 ],
 "metadata": {
  "kernelspec": {
   "display_name": "Python 3",
   "language": "python",
   "name": "python3"
  },
  "language_info": {
   "codemirror_mode": {
    "name": "ipython",
    "version": 3
   },
   "file_extension": ".py",
   "mimetype": "text/x-python",
   "name": "python",
   "nbconvert_exporter": "python",
   "pygments_lexer": "ipython3",
   "version": "3.6.8"
  }
 },
 "nbformat": 4,
 "nbformat_minor": 2
}
