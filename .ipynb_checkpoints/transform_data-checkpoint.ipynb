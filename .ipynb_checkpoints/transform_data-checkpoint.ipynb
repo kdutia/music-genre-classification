{
 "cells": [
  {
   "cell_type": "markdown",
   "metadata": {},
   "source": [
    "In this notebook I'll transform the data from wav files to spectrograms, which can be processed by an image classification network."
   ]
  },
  {
   "cell_type": "code",
   "execution_count": 23,
   "metadata": {},
   "outputs": [
    {
     "name": "stdout",
     "output_type": "stream",
     "text": [
      "/Users/kalyan/Documents/learning/machine learning/music-genre-classification\n"
     ]
    }
   ],
   "source": [
    "# external\n",
    "import librosa\n",
    "\n",
    "import numpy as np\n",
    "import matplotlib.pyplot as plt\n",
    "import pandas as pd\n",
    "\n",
    "from pathlib import Path\n",
    "from tqdm import tqdm\n",
    "\n",
    "# internal\n",
    "import audio_to_spec\n",
    "\n",
    "# show working dir\n",
    "path = Path.cwd(); print(path)"
   ]
  },
  {
   "cell_type": "code",
   "execution_count": 4,
   "metadata": {},
   "outputs": [
    {
     "data": {
      "text/html": [
       "<div>\n",
       "<style scoped>\n",
       "    .dataframe tbody tr th:only-of-type {\n",
       "        vertical-align: middle;\n",
       "    }\n",
       "\n",
       "    .dataframe tbody tr th {\n",
       "        vertical-align: top;\n",
       "    }\n",
       "\n",
       "    .dataframe thead th {\n",
       "        text-align: right;\n",
       "    }\n",
       "</style>\n",
       "<table border=\"1\" class=\"dataframe\">\n",
       "  <thead>\n",
       "    <tr style=\"text-align: right;\">\n",
       "      <th></th>\n",
       "      <th>filename</th>\n",
       "      <th>genre</th>\n",
       "      <th>path</th>\n",
       "    </tr>\n",
       "  </thead>\n",
       "  <tbody>\n",
       "    <tr>\n",
       "      <th>0</th>\n",
       "      <td>pop.00027.wav</td>\n",
       "      <td>pop</td>\n",
       "      <td>/Users/kalyan/Documents/learning/machine learn...</td>\n",
       "    </tr>\n",
       "    <tr>\n",
       "      <th>1</th>\n",
       "      <td>pop.00033.wav</td>\n",
       "      <td>pop</td>\n",
       "      <td>/Users/kalyan/Documents/learning/machine learn...</td>\n",
       "    </tr>\n",
       "    <tr>\n",
       "      <th>2</th>\n",
       "      <td>pop.00032.wav</td>\n",
       "      <td>pop</td>\n",
       "      <td>/Users/kalyan/Documents/learning/machine learn...</td>\n",
       "    </tr>\n",
       "    <tr>\n",
       "      <th>3</th>\n",
       "      <td>pop.00026.wav</td>\n",
       "      <td>pop</td>\n",
       "      <td>/Users/kalyan/Documents/learning/machine learn...</td>\n",
       "    </tr>\n",
       "    <tr>\n",
       "      <th>4</th>\n",
       "      <td>pop.00030.wav</td>\n",
       "      <td>pop</td>\n",
       "      <td>/Users/kalyan/Documents/learning/machine learn...</td>\n",
       "    </tr>\n",
       "  </tbody>\n",
       "</table>\n",
       "</div>"
      ],
      "text/plain": [
       "        filename genre                                               path\n",
       "0  pop.00027.wav   pop  /Users/kalyan/Documents/learning/machine learn...\n",
       "1  pop.00033.wav   pop  /Users/kalyan/Documents/learning/machine learn...\n",
       "2  pop.00032.wav   pop  /Users/kalyan/Documents/learning/machine learn...\n",
       "3  pop.00026.wav   pop  /Users/kalyan/Documents/learning/machine learn...\n",
       "4  pop.00030.wav   pop  /Users/kalyan/Documents/learning/machine learn..."
      ]
     },
     "execution_count": 4,
     "metadata": {},
     "output_type": "execute_result"
    }
   ],
   "source": [
    "df = pd.read_csv(path/'data'/'wav_files.csv', index_col=0)\n",
    "\n",
    "df.head()"
   ]
  },
  {
   "cell_type": "code",
   "execution_count": 24,
   "metadata": {},
   "outputs": [
    {
     "name": "stderr",
     "output_type": "stream",
     "text": [
      "  0%|          | 0/1000 [00:00<?, ?it/s]"
     ]
    },
    {
     "name": "stdout",
     "output_type": "stream",
     "text": [
      "converting audio files to spectrogram images..\n"
     ]
    },
    {
     "name": "stderr",
     "output_type": "stream",
     "text": [
      "100%|██████████| 1000/1000 [21:10<00:00,  1.27s/it]\n"
     ]
    }
   ],
   "source": [
    "print('converting audio files to spectrogram images..')\n",
    "\n",
    "for idx, row in tqdm(df.iterrows(), total=df.shape[0]):\n",
    "    audio_path = row['path']\n",
    "    img_path = audio_path[0:-4] + '.png'\n",
    "\n",
    "    audio_to_spec.audio_file_to_melspec_file(audio_path, img_path)"
   ]
  },
  {
   "cell_type": "code",
   "execution_count": null,
   "metadata": {},
   "outputs": [],
   "source": []
  }
 ],
 "metadata": {
  "kernelspec": {
   "display_name": "Python 3",
   "language": "python",
   "name": "python3"
  },
  "language_info": {
   "codemirror_mode": {
    "name": "ipython",
    "version": 3
   },
   "file_extension": ".py",
   "mimetype": "text/x-python",
   "name": "python",
   "nbconvert_exporter": "python",
   "pygments_lexer": "ipython3",
   "version": "3.7.3"
  }
 },
 "nbformat": 4,
 "nbformat_minor": 4
}
